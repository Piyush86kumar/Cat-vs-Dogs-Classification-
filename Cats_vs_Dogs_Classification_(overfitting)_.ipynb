{
  "nbformat": 4,
  "nbformat_minor": 0,
  "metadata": {
    "colab": {
      "provenance": [],
      "gpuType": "T4",
      "authorship_tag": "ABX9TyP4Z4ysgq7/TC8LyKFSry1R",
      "include_colab_link": true
    },
    "kernelspec": {
      "name": "python3",
      "display_name": "Python 3"
    },
    "language_info": {
      "name": "python"
    },
    "accelerator": "GPU"
  },
  "cells": [
    {
      "cell_type": "markdown",
      "metadata": {
        "id": "view-in-github",
        "colab_type": "text"
      },
      "source": [
        "<a href=\"https://colab.research.google.com/github/Piyush86kumar/Cat-vs-Dogs-Classification-/blob/main/Cats_vs_Dogs_Classification_(overfitting)_.ipynb\" target=\"_parent\"><img src=\"https://colab.research.google.com/assets/colab-badge.svg\" alt=\"Open In Colab\"/></a>"
      ]
    },
    {
      "cell_type": "code",
      "execution_count": 4,
      "metadata": {
        "id": "oZQdU-TpwqAX"
      },
      "outputs": [],
      "source": [
        "# import required libraries\n",
        "import tensorflow as tf\n",
        "from tensorflow import keras\n",
        "from keras import Sequential\n",
        "from keras.layers import Dense, Conv2D, MaxPooling2D, Flatten"
      ]
    },
    {
      "cell_type": "code",
      "source": [
        "#create a folder .kaggle\n",
        "!mkdir -p ~/.kaggle\n",
        "!cp kaggle.json ~/.kaggle/"
      ],
      "metadata": {
        "id": "pERiHWCsQtdv",
        "colab": {
          "base_uri": "https://localhost:8080/"
        },
        "outputId": "47f54ddc-dc7d-4634-c33c-2f8e40a37f3e"
      },
      "execution_count": 5,
      "outputs": [
        {
          "output_type": "stream",
          "name": "stdout",
          "text": [
            "cp: cannot stat 'kaggle.json': No such file or directory\n"
          ]
        }
      ]
    },
    {
      "cell_type": "code",
      "source": [
        "#loading the dataset\n",
        "!kaggle datasets download -d salader/dogs-vs-cats"
      ],
      "metadata": {
        "colab": {
          "base_uri": "https://localhost:8080/"
        },
        "id": "KQK2EykhQ8ud",
        "outputId": "681a7fcd-1fff-4a78-d2b6-4025bfd70e44"
      },
      "execution_count": 6,
      "outputs": [
        {
          "output_type": "stream",
          "name": "stdout",
          "text": [
            "Warning: Looks like you're using an outdated API Version, please consider updating (server 1.6.14 / client 1.6.12)\n",
            "Dataset URL: https://www.kaggle.com/datasets/salader/dogs-vs-cats\n",
            "License(s): unknown\n",
            "Downloading dogs-vs-cats.zip to /content\n",
            "100% 1.06G/1.06G [00:11<00:00, 82.8MB/s]\n",
            "100% 1.06G/1.06G [00:11<00:00, 103MB/s] \n"
          ]
        }
      ]
    },
    {
      "cell_type": "code",
      "source": [
        "# extracting data from zip file\n",
        "import zipfile\n",
        "zip_ref = zipfile.ZipFile('/content/dogs-vs-cats.zip', 'r')\n",
        "zip_ref.extractall('/content')\n",
        "zip_ref.close()"
      ],
      "metadata": {
        "id": "nt0DPemRR-yo"
      },
      "execution_count": 7,
      "outputs": []
    },
    {
      "cell_type": "code",
      "source": [
        "# keras generators -\n",
        "train_dataset = keras.utils.image_dataset_from_directory(\n",
        "    directory = '/content/train',\n",
        "    labels = 'inferred',\n",
        "    label_mode = 'int',\n",
        "    batch_size = 32,\n",
        "    image_size = (256,256)\n",
        ")\n",
        "\n",
        "validation_dataset = keras.utils.image_dataset_from_directory(\n",
        "    directory = '/content/test',\n",
        "    labels = 'inferred',\n",
        "    label_mode = 'int',\n",
        "    batch_size = 32,\n",
        "    image_size = (256,256)\n",
        ")"
      ],
      "metadata": {
        "id": "8NYETNsUStE4",
        "colab": {
          "base_uri": "https://localhost:8080/"
        },
        "outputId": "6fc05822-a217-45f4-9623-21d2e550939d"
      },
      "execution_count": 8,
      "outputs": [
        {
          "output_type": "stream",
          "name": "stdout",
          "text": [
            "Found 20000 files belonging to 2 classes.\n",
            "Found 5000 files belonging to 2 classes.\n"
          ]
        }
      ]
    },
    {
      "cell_type": "code",
      "source": [
        "# Normalize\n",
        "def process(image, label):\n",
        "  image = tf.cast(image/255. ,tf.float32)\n",
        "  return image, label\n",
        "\n",
        "  train_datset = train_dataset.map(process)\n",
        "  validation_dataset = validation_dataset.map(process)"
      ],
      "metadata": {
        "id": "aDnQD544OUP9"
      },
      "execution_count": 9,
      "outputs": []
    },
    {
      "cell_type": "code",
      "source": [
        "# Create CNN model\n",
        "model = Sequential()\n",
        "\n",
        "model.add(Conv2D(32, kernel_size=(3,3), padding = 'valid', activation = 'relu', input_shape = (256, 256, 3)))\n",
        "model.add(MaxPooling2D(pool_size = (2,2), strides= 2, padding = 'valid'))\n",
        "\n",
        "model.add(Conv2D(64, kernel_size=(3,3), padding = 'valid', activation = 'relu'))\n",
        "model.add(MaxPooling2D(pool_size = (2,2), strides= 2, padding = 'valid'))\n",
        "\n",
        "model.add(Conv2D(128, kernel_size=(3,3), padding = 'valid', activation = 'relu'))\n",
        "model.add(MaxPooling2D(pool_size = (2,2), strides= 2, padding = 'valid'))\n",
        "\n",
        "model.add(Flatten())\n",
        "model.add(Dense(128, activation = 'relu'))\n",
        "model.add(Dense(64, activation = 'relu'))\n",
        "model.add(Dense(1, activation = 'sigmoid'))"
      ],
      "metadata": {
        "id": "SRYw6xLFQSAc"
      },
      "execution_count": 10,
      "outputs": []
    },
    {
      "cell_type": "code",
      "source": [
        "model.summary()"
      ],
      "metadata": {
        "id": "vxgIlebh19KY",
        "colab": {
          "base_uri": "https://localhost:8080/"
        },
        "outputId": "43bd7615-c55d-48cc-fc1f-3a1289c1a060"
      },
      "execution_count": 11,
      "outputs": [
        {
          "output_type": "stream",
          "name": "stdout",
          "text": [
            "Model: \"sequential\"\n",
            "_________________________________________________________________\n",
            " Layer (type)                Output Shape              Param #   \n",
            "=================================================================\n",
            " conv2d (Conv2D)             (None, 254, 254, 32)      896       \n",
            "                                                                 \n",
            " max_pooling2d (MaxPooling2  (None, 127, 127, 32)      0         \n",
            " D)                                                              \n",
            "                                                                 \n",
            " conv2d_1 (Conv2D)           (None, 125, 125, 64)      18496     \n",
            "                                                                 \n",
            " max_pooling2d_1 (MaxPoolin  (None, 62, 62, 64)        0         \n",
            " g2D)                                                            \n",
            "                                                                 \n",
            " conv2d_2 (Conv2D)           (None, 60, 60, 128)       73856     \n",
            "                                                                 \n",
            " max_pooling2d_2 (MaxPoolin  (None, 30, 30, 128)       0         \n",
            " g2D)                                                            \n",
            "                                                                 \n",
            " flatten (Flatten)           (None, 115200)            0         \n",
            "                                                                 \n",
            " dense (Dense)               (None, 128)               14745728  \n",
            "                                                                 \n",
            " dense_1 (Dense)             (None, 64)                8256      \n",
            "                                                                 \n",
            " dense_2 (Dense)             (None, 1)                 65        \n",
            "                                                                 \n",
            "=================================================================\n",
            "Total params: 14847297 (56.64 MB)\n",
            "Trainable params: 14847297 (56.64 MB)\n",
            "Non-trainable params: 0 (0.00 Byte)\n",
            "_________________________________________________________________\n"
          ]
        }
      ]
    },
    {
      "cell_type": "code",
      "source": [
        "model.compile(optimizer = 'adam', loss = 'binary_crossentropy', metrics = 'accuracy')"
      ],
      "metadata": {
        "id": "XFwp3IrsUW6I"
      },
      "execution_count": 12,
      "outputs": []
    },
    {
      "cell_type": "code",
      "source": [
        "history = model.fit(train_dataset, epochs = 10, validation_data = validation_dataset)"
      ],
      "metadata": {
        "colab": {
          "base_uri": "https://localhost:8080/"
        },
        "id": "XbXicKoMU8zT",
        "outputId": "3a80a7ed-f911-436c-ef82-5ae8fe461364"
      },
      "execution_count": 13,
      "outputs": [
        {
          "output_type": "stream",
          "name": "stdout",
          "text": [
            "Epoch 1/10\n",
            "625/625 [==============================] - 59s 83ms/step - loss: 1.3148 - accuracy: 0.5923 - val_loss: 0.6738 - val_accuracy: 0.5652\n",
            "Epoch 2/10\n",
            "625/625 [==============================] - 51s 82ms/step - loss: 0.6704 - accuracy: 0.6179 - val_loss: 0.7075 - val_accuracy: 0.4990\n",
            "Epoch 3/10\n",
            "625/625 [==============================] - 49s 78ms/step - loss: 0.6603 - accuracy: 0.5999 - val_loss: 0.6744 - val_accuracy: 0.6332\n",
            "Epoch 4/10\n",
            "625/625 [==============================] - 53s 84ms/step - loss: 0.5779 - accuracy: 0.6898 - val_loss: 0.7011 - val_accuracy: 0.6362\n",
            "Epoch 5/10\n",
            "625/625 [==============================] - 50s 80ms/step - loss: 0.4720 - accuracy: 0.7639 - val_loss: 0.8935 - val_accuracy: 0.5990\n",
            "Epoch 6/10\n",
            "625/625 [==============================] - 51s 82ms/step - loss: 0.3517 - accuracy: 0.8375 - val_loss: 1.0175 - val_accuracy: 0.6112\n",
            "Epoch 7/10\n",
            "625/625 [==============================] - 53s 85ms/step - loss: 0.2659 - accuracy: 0.8855 - val_loss: 1.3393 - val_accuracy: 0.6086\n",
            "Epoch 8/10\n",
            "625/625 [==============================] - 57s 90ms/step - loss: 0.2152 - accuracy: 0.9198 - val_loss: 1.2845 - val_accuracy: 0.6322\n",
            "Epoch 9/10\n",
            "625/625 [==============================] - 50s 80ms/step - loss: 0.1895 - accuracy: 0.9371 - val_loss: 1.6147 - val_accuracy: 0.6336\n",
            "Epoch 10/10\n",
            "625/625 [==============================] - 60s 95ms/step - loss: 0.1407 - accuracy: 0.9554 - val_loss: 2.1105 - val_accuracy: 0.6376\n"
          ]
        }
      ]
    },
    {
      "cell_type": "code",
      "source": [
        "import matplotlib.pyplot as plt\n",
        "plt.plot(history.history['accuracy'], color = 'red', label = 'train')\n",
        "plt.plot(history.history['val_accuracy'], color ='blue', label = 'validation')\n",
        "plt.legend()\n",
        "plt.show()"
      ],
      "metadata": {
        "colab": {
          "base_uri": "https://localhost:8080/",
          "height": 430
        },
        "id": "3UKZocqBVKG7",
        "outputId": "a69431fc-2892-41ee-9d95-2728b4ce3683"
      },
      "execution_count": 14,
      "outputs": [
        {
          "output_type": "display_data",
          "data": {
            "text/plain": [
              "<Figure size 640x480 with 1 Axes>"
            ],
            "image/png": "[encoded data removed]"
          },
          "metadata": {}
        }
      ]
    },
    {
      "cell_type": "code",
      "source": [
        "plt.plot(history.history['loss'], color = 'red', label = 'train_ loss')\n",
        "plt.plot(history.history['val_loss'], color = 'blue', label = 'validation_loss')\n",
        "plt.legend()\n",
        "plt.show()"
      ],
      "metadata": {
        "colab": {
          "base_uri": "https://localhost:8080/",
          "height": 430
        },
        "id": "MSdvIq8rjff2",
        "outputId": "b81ad6d6-85e0-413d-e4ed-0750506e5110"
      },
      "execution_count": 17,
      "outputs": [
        {
          "output_type": "display_data",
          "data": {
            "text/plain": [
              "<Figure size 640x480 with 1 Axes>"
            ],
            "image/png": "[encoded data removed]"
          },
          "metadata": {}
        }
      ]
    },
    {
      "cell_type": "code",
      "source": [],
      "metadata": {
        "id": "ab6L7icwkenf"
      },
      "execution_count": null,
      "outputs": []
    }
  ]
}